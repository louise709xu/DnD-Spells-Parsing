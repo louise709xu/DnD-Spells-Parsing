{
 "cells": [
  {
   "cell_type": "code",
   "execution_count": 14,
   "metadata": {
    "collapsed": false
   },
   "outputs": [],
   "source": [
    "import pandas as pd\n",
    "\n",
    "txtfile = open(\"spells.txt\", \"r\") \n",
    "\n",
    "level = \"0\"\n",
    "classes = ['bard','cleric','druid','paladin','ranger','sorcerer','warlock','wizard']\n",
    "header = ['name','level'] + classes\n",
    "header_len = len(header)\n",
    "spell_list = [header]"
   ]
  },
  {
   "cell_type": "code",
   "execution_count": 15,
   "metadata": {
    "collapsed": true
   },
   "outputs": [],
   "source": [
    "def find(s, ch):\n",
    "    return [i for i, ltr in enumerate(s) if ltr == ch]"
   ]
  },
  {
   "cell_type": "code",
   "execution_count": 16,
   "metadata": {
    "collapsed": false
   },
   "outputs": [],
   "source": [
    "for line in txtfile:\n",
    "    if line[0].isdigit():\n",
    "        level = line[0:-1]\n",
    "        continue\n",
    "    if line[0].isspace():\n",
    "        continue\n",
    "    \n",
    "    lparen = line.find(\"(\")\n",
    "    rparen = line.find(\")\")\n",
    "    \n",
    "    name = line[0:lparen]\n",
    "    classes = line[lparen+1:rparen].split(', ')\n",
    "    \n",
    "    spell = [0] * header_len\n",
    "    spell[0] = name\n",
    "    spell[1] = level\n",
    "    \n",
    "    while len(classes) > 0:\n",
    "        spell[header.index(classes[0])] = 1\n",
    "        classes = classes[1:-1]\n",
    "    \n",
    "    spell_list.append(spell)"
   ]
  },
  {
   "cell_type": "code",
   "execution_count": 17,
   "metadata": {
    "collapsed": false
   },
   "outputs": [],
   "source": [
    "df = pd.DataFrame(spell_list,columns=header)\n",
    "df = df.drop([0])\n",
    "export_csv = df.to_csv (r'C:\\Users\\Louise\\Desktop\\spellslist.csv', index = None, header=True) "
   ]
  }
 ],
 "metadata": {
  "kernelspec": {
   "display_name": "Python 3",
   "language": "python",
   "name": "python3"
  },
  "language_info": {
   "codemirror_mode": {
    "name": "ipython",
    "version": 3
   },
   "file_extension": ".py",
   "mimetype": "text/x-python",
   "name": "python",
   "nbconvert_exporter": "python",
   "pygments_lexer": "ipython3",
   "version": "3.6.0"
  }
 },
 "nbformat": 4,
 "nbformat_minor": 2
}
